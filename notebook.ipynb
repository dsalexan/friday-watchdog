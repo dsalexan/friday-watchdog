{
 "metadata": {
  "language_info": {
   "codemirror_mode": {
    "name": "ipython",
    "version": 3
   },
   "file_extension": ".py",
   "mimetype": "text/x-python",
   "name": "python",
   "nbconvert_exporter": "python",
   "pygments_lexer": "ipython3",
   "version": "3.6.8-final"
  },
  "orig_nbformat": 2,
  "kernelspec": {
   "name": "python3",
   "display_name": "Python 3.6.8 64-bit",
   "metadata": {
    "interpreter": {
     "hash": "4bf5ffbeb8bb60b501bd370f4f30f4e42d71afa6b8bb033ca8128ca692dcec38"
    }
   }
  }
 },
 "nbformat": 4,
 "nbformat_minor": 2,
 "cells": [
  {
   "cell_type": "code",
   "execution_count": 10,
   "metadata": {},
   "outputs": [],
   "source": [
    "import wmi\n",
    "import fnc\n",
    "import pydash\n",
    "import pywinauto\n",
    "\n",
    "f = wmi.WMI()"
   ]
  },
  {
   "cell_type": "code",
   "execution_count": 12,
   "metadata": {
    "tags": []
   },
   "outputs": [
    {
     "output_type": "stream",
     "name": "stdout",
     "text": [
      "{'name': 'System Idle Process', 'pid': 0, 'path': None}\n{'name': 'System', 'pid': 4, 'path': None}\n{'name': 'Registry', 'pid': 120, 'path': None}\n{'name': 'smss.exe', 'pid': 512, 'path': None}\n{'name': 'csrss.exe', 'pid': 696, 'path': None}\n{'name': 'wininit.exe', 'pid': 796, 'path': None}\n{'name': 'services.exe', 'pid': 868, 'path': None}\n{'name': 'lsass.exe', 'pid': 880, 'path': None}\n{'name': 'winlogon.exe', 'pid': 956, 'path': None}\n{'name': 'svchost.exe', 'pid': 556, 'path': None}\n{'name': 'fontdrvhost.exe', 'pid': 808, 'path': None}\n{'name': 'WUDFHost.exe', 'pid': 1056, 'path': None}\n{'name': 'dwm.exe', 'pid': 1224, 'path': None}\n{'name': 'igfxCUIService.exe', 'pid': 2072, 'path': None}\n{'name': 'NVDisplay.Container.exe', 'pid': 2540, 'path': None}\n{'name': 'dasHost.exe', 'pid': 2652, 'path': None}\n{'name': 'Memory Compression', 'pid': 2848, 'path': None}\n{'name': 'RtkAudioService64.exe', 'pid': 3480, 'path': None}\n{'name': 'RAVBg64.exe', 'pid': 3604, 'path': None}\n{'name': 'spoolsv.exe', 'pid': 3892, 'path': None}\n{'name': 'mDNSResponder.exe', 'pid': 4272, 'path': None}\n{'name': 'IntelCpHDCPSvc.exe', 'pid': 4292, 'path': None}\n{'name': 'AdminService.exe', 'pid': 4300, 'path': None}\n{'name': 'AdobeUpdateService.exe', 'pid': 4308, 'path': None}\n{'name': 'esif_uf.exe', 'pid': 4340, 'path': None}\n{'name': 'IpOverUsbSvc.exe', 'pid': 4580, 'path': None}\n{'name': 'LMIGuardianSvc.exe', 'pid': 4620, 'path': None}\n{'name': 'nvcontainer.exe', 'pid': 4672, 'path': None}\n{'name': 'PanGPS.exe', 'pid': 4712, 'path': None}\n{'name': 'NvTelemetryContainer.exe', 'pid': 4720, 'path': None}\n{'name': 'hamachi-2.exe', 'pid': 4744, 'path': None}\n{'name': 'sgvpn.exe', 'pid': 4808, 'path': None}\n{'name': 'WavesSysSvc64.exe', 'pid': 4944, 'path': None}\n{'name': 'WTabletServicePro.exe', 'pid': 4968, 'path': None}\n{'name': 'pg_ctl.exe', 'pid': 4980, 'path': None}\n{'name': 'mongod.exe', 'pid': 5004, 'path': None}\n{'name': 'IntelCpHeciSvc.exe', 'pid': 5160, 'path': None}\n{'name': 'jhi_service.exe', 'pid': 5316, 'path': None}\n{'name': 'postgres.exe', 'pid': 6172, 'path': None}\n{'name': 'conhost.exe', 'pid': 6180, 'path': None}\n{'name': 'sgpm.exe', 'pid': 6324, 'path': None}\n{'name': 'dllhost.exe', 'pid': 6524, 'path': None}\n{'name': 'OfficeClickToRun.exe', 'pid': 7996, 'path': None}\n{'name': 'AppVShNotify.exe', 'pid': 8608, 'path': None}\n{'name': 'SearchIndexer.exe', 'pid': 9676, 'path': None}\n{'name': 'AGSService.exe', 'pid': 9612, 'path': None}\n{'name': 'MsMpEng.exe', 'pid': 9588, 'path': None}\n{'name': 'NisSrv.exe', 'pid': 7076, 'path': None}\n{'name': 'DDVRulesProcessor.exe', 'pid': 9224, 'path': None}\n{'name': 'DSAPI.exe', 'pid': 6912, 'path': None}\n{'name': 'ServiceShell.exe', 'pid': 1432, 'path': None}\n{'name': 'GoogleCrashHandler.exe', 'pid': 9044, 'path': None}\n{'name': 'GoogleCrashHandler64.exe', 'pid': 5028, 'path': None}\n{'name': 'IAStorDataMgrSvc.exe', 'pid': 7088, 'path': None}\n{'name': 'SgrmBroker.exe', 'pid': 1620, 'path': None}\n{'name': 'SupportAssistAgent.exe', 'pid': 2568, 'path': None}\n{'name': 'DDVDataCollector.exe', 'pid': 10112, 'path': None}\n{'name': 'DDVCollectorSvcApi.exe', 'pid': 6636, 'path': None}\n{'name': 'dptf_helper.exe', 'pid': 1464, 'path': 'C:\\\\WINDOWS\\\\system32\\\\Intel\\\\DPTF\\\\dptf_helper.exe'}\n{'name': 'sihost.exe', 'pid': 3880, 'path': 'C:\\\\WINDOWS\\\\system32\\\\sihost.exe'}\n{'name': 'PresentationFontCache.exe', 'pid': 6900, 'path': None}\n{'name': 'taskhostw.exe', 'pid': 9816, 'path': 'C:\\\\WINDOWS\\\\system32\\\\taskhostw.exe'}\n{'name': 'ctfmon.exe', 'pid': 6960, 'path': None}\n{'name': 'explorer.exe', 'pid': 6496, 'path': 'C:\\\\WINDOWS\\\\Explorer.EXE'}\n{'name': 'igfxEM.exe', 'pid': 8016, 'path': 'C:\\\\WINDOWS\\\\System32\\\\DriverStore\\\\FileRepository\\\\igdlh64.inf_amd64_763182f3860a4408\\\\igfxEM.exe'}\n{'name': 'NVIDIA Web Helper.exe', 'pid': 8696, 'path': 'C:\\\\Program Files (x86)\\\\NVIDIA Corporation\\\\NvNode\\\\NVIDIA Web Helper.exe'}\n{'name': 'Wacom_TabletUser.exe', 'pid': 6272, 'path': 'C:\\\\Program Files\\\\Tablet\\\\Wacom\\\\Wacom_TabletUser.exe'}\n{'name': 'WacomHost.exe', 'pid': 9792, 'path': None}\n{'name': 'Wacom_Tablet.exe', 'pid': 1936, 'path': None}\n{'name': 'Wacom_TouchUser.exe', 'pid': 6876, 'path': None}\n{'name': 'nvsphelper64.exe', 'pid': 10560, 'path': None}\n{'name': 'StartMenuExperienceHost.exe', 'pid': 10600, 'path': 'C:\\\\WINDOWS\\\\SystemApps\\\\Microsoft.Windows.StartMenuExperienceHost_cw5n1h2txyewy\\\\StartMenuExperienceHost.exe'}\n{'name': 'NVIDIA Share.exe', 'pid': 10608, 'path': 'C:\\\\Program Files\\\\NVIDIA Corporation\\\\NVIDIA GeForce Experience\\\\NVIDIA Share.exe'}\n{'name': 'RuntimeBroker.exe', 'pid': 10708, 'path': 'C:\\\\Windows\\\\System32\\\\RuntimeBroker.exe'}\n{'name': 'smartscreen.exe', 'pid': 8964, 'path': 'C:\\\\Windows\\\\System32\\\\smartscreen.exe'}\n{'name': 'SettingSyncHost.exe', 'pid': 13128, 'path': 'C:\\\\WINDOWS\\\\system32\\\\SettingSyncHost.exe'}\n{'name': 'YourPhone.exe', 'pid': 11912, 'path': 'C:\\\\Program Files\\\\WindowsApps\\\\Microsoft.YourPhone_1.20071.92.0_x64__8wekyb3d8bbwe\\\\YourPhone.exe'}\n{'name': 'YourPhoneServer.exe', 'pid': 12240, 'path': 'C:\\\\Program Files\\\\WindowsApps\\\\Microsoft.YourPhone_1.20071.92.0_x64__8wekyb3d8bbwe\\\\YourPhoneServer\\\\YourPhoneServer.exe'}\n{'name': 'SecurityHealthSystray.exe', 'pid': 3540, 'path': 'C:\\\\Windows\\\\System32\\\\SecurityHealthSystray.exe'}\n{'name': 'SecurityHealthService.exe', 'pid': 12512, 'path': None}\n{'name': 'PanGPA.exe', 'pid': 12692, 'path': 'C:\\\\Program Files\\\\Palo Alto Networks\\\\GlobalProtect\\\\PanGPA.exe'}\n{'name': 'RtkNGUI64.exe', 'pid': 12596, 'path': 'C:\\\\Program Files\\\\Realtek\\\\Audio\\\\HDA\\\\RtkNGUI64.exe'}\n{'name': 'WavesSvc64.exe', 'pid': 11332, 'path': 'C:\\\\Program Files\\\\Waves\\\\MaxxAudio\\\\WavesSvc64.exe'}\n{'name': 'SearchUI.exe', 'pid': 12860, 'path': 'C:\\\\Windows\\\\SystemApps\\\\Microsoft.Windows.Cortana_cw5n1h2txyewy\\\\SearchUI.exe'}\n{'name': 'VLC Streamer Configuration.exe', 'pid': 13524, 'path': 'C:\\\\Program Files (x86)\\\\Hobbyist Software\\\\VLC Streamer\\\\VLC Streamer Configuration.exe'}\n{'name': '1Password.exe', 'pid': 14112, 'path': 'C:\\\\Users\\\\Danilo\\\\AppData\\\\Local\\\\1Password\\\\app\\\\7\\\\1Password.exe'}\n{'name': 'AdobeCollabSync.exe', 'pid': 11812, 'path': 'C:\\\\Program Files (x86)\\\\Adobe\\\\Acrobat DC\\\\Acrobat\\\\AdobeCollabSync.exe'}\n{'name': 'lync.exe', 'pid': 13596, 'path': 'C:\\\\Program Files\\\\Microsoft Office\\\\root\\\\Office16\\\\lync.exe'}\n{'name': 'Conduit.exe', 'pid': 11948, 'path': 'D:\\\\dsalexan\\\\Downloads\\\\Conduit.exe'}\n{'name': 'careueyes.exe', 'pid': 8000, 'path': 'C:\\\\Users\\\\Danilo\\\\AppData\\\\Roaming\\\\CareUEyes\\\\careueyes.exe'}\n{'name': 'acrotray.exe', 'pid': 14848, 'path': 'C:\\\\Program Files (x86)\\\\Adobe\\\\Acrobat DC\\\\Acrobat\\\\acrotray.exe'}\n{'name': 'Lightshot.exe', 'pid': 15024, 'path': 'C:\\\\Program Files (x86)\\\\Skillbrains\\\\lightshot\\\\5.4.0.35\\\\Lightshot.exe'}\n{'name': 'hamachi-2-ui.exe', 'pid': 15092, 'path': 'C:\\\\Program Files (x86)\\\\LogMeIn Hamachi\\\\hamachi-2-ui.exe'}\n{'name': 'jusched.exe', 'pid': 14592, 'path': 'C:\\\\Program Files (x86)\\\\Common Files\\\\Java\\\\Java Update\\\\jusched.exe'}\n{'name': 'ONENOTEM.EXE', 'pid': 14928, 'path': 'C:\\\\Program Files\\\\Microsoft Office\\\\root\\\\Office16\\\\ONENOTEM.EXE'}\n{'name': 'sggui.exe', 'pid': 14856, 'path': 'C:\\\\Program Files (x86)\\\\Forcepoint\\\\VPN Client\\\\sggui.exe'}\n{'name': 'sgcrypto.exe', 'pid': 15224, 'path': 'C:\\\\Program Files (x86)\\\\Forcepoint\\\\VPN Client\\\\sgcrypto.exe'}\n{'name': 'EvernoteClipper.exe', 'pid': 14364, 'path': 'C:\\\\Program Files (x86)\\\\Evernote\\\\Evernote\\\\EvernoteClipper.exe'}\n{'name': 'Origin.exe', 'pid': 11588, 'path': 'C:\\\\Program Files (x86)\\\\Origin\\\\Origin.exe'}\n{'name': 'IAStorIcon.exe', 'pid': 8936, 'path': 'C:\\\\Program Files\\\\Intel\\\\Intel(R) Rapid Storage Technology\\\\IAStorIcon.exe'}\n{'name': 'OriginWebHelperService.exe', 'pid': 14780, 'path': None}\n{'name': 'QtWebEngineProcess.exe', 'pid': 11600, 'path': 'C:\\\\Program Files (x86)\\\\Origin\\\\QtWebEngineProcess.exe'}\n{'name': 'LockApp.exe', 'pid': 9152, 'path': 'C:\\\\Windows\\\\SystemApps\\\\Microsoft.LockApp_cw5n1h2txyewy\\\\LockApp.exe'}\n{'name': 'usocoreworker.exe', 'pid': 13276, 'path': None}\n{'name': 'ApplicationFrameHost.exe', 'pid': 2248, 'path': 'C:\\\\WINDOWS\\\\system32\\\\ApplicationFrameHost.exe'}\n{'name': 'WinStore.App.exe', 'pid': 7276, 'path': 'C:\\\\Program Files\\\\WindowsApps\\\\Microsoft.WindowsStore_12011.1001.1.0_x64__8wekyb3d8bbwe\\\\WinStore.App.exe'}\n{'name': 'ShellExperienceHost.exe', 'pid': 13960, 'path': 'C:\\\\WINDOWS\\\\SystemApps\\\\ShellExperienceHost_cw5n1h2txyewy\\\\ShellExperienceHost.exe'}\n{'name': 'SystemSettingsBroker.exe', 'pid': 12204, 'path': 'C:\\\\Windows\\\\System32\\\\SystemSettingsBroker.exe'}\n{'name': 'chrome.exe', 'pid': 15644, 'path': 'C:\\\\Program Files (x86)\\\\Google\\\\Chrome\\\\Application\\\\chrome.exe'}\n{'name': 'jucheck.exe', 'pid': 18332, 'path': 'C:\\\\Program Files (x86)\\\\Common Files\\\\Java\\\\Java Update\\\\jucheck.exe'}\n{'name': 'Evernote.exe', 'pid': 17080, 'path': 'C:\\\\Program Files (x86)\\\\Evernote\\\\Evernote\\\\Evernote.exe'}\n{'name': 'EvernoteSubprocess.exe', 'pid': 11172, 'path': 'C:\\\\Program Files (x86)\\\\Evernote\\\\Evernote\\\\EvernoteSubprocess.exe'}\n{'name': 'EvernoteTray.exe', 'pid': 10640, 'path': 'C:\\\\Program Files (x86)\\\\Evernote\\\\Evernote\\\\EvernoteTray.exe'}\n{'name': 'WindowsInternal.ComposableShell.Experiences.TextInput.InputApp.exe', 'pid': 16692, 'path': 'C:\\\\Windows\\\\SystemApps\\\\InputApp_cw5n1h2txyewy\\\\WindowsInternal.ComposableShell.Experiences.TextInput.InputApp.exe'}\n{'name': 'Telegram.exe', 'pid': 18052, 'path': 'D:\\\\Programas\\\\Telegram Desktop\\\\Telegram.exe'}\n{'name': 'AGMService.exe', 'pid': 17904, 'path': None}\n{'name': 'unsecapp.exe', 'pid': 128, 'path': None}\n{'name': 'CompPkgSrv.exe', 'pid': 6880, 'path': 'C:\\\\Windows\\\\System32\\\\CompPkgSrv.exe'}\n{'name': 'backgroundTaskHost.exe', 'pid': 6924, 'path': 'C:\\\\WINDOWS\\\\system32\\\\backgroundTaskHost.exe'}\n{'name': 'git-bash.exe', 'pid': 7664, 'path': 'C:\\\\Program Files\\\\Git\\\\git-bash.exe'}\n{'name': 'mintty.exe', 'pid': 14068, 'path': 'C:\\\\Program Files\\\\Git\\\\usr\\\\bin\\\\mintty.exe'}\n{'name': 'bash.exe', 'pid': 3596, 'path': 'C:\\\\Program Files\\\\Git\\\\usr\\\\bin\\\\bash.exe'}\n{'name': 'WmiPrvSE.exe', 'pid': 9088, 'path': None}\n{'name': 'Taskmgr.exe', 'pid': 19540, 'path': None}\n{'name': 'Redragon K551RGB.exe', 'pid': 21084, 'path': 'C:\\\\Program Files (x86)\\\\Redragon K551RGB Mechanical Keyboard\\\\Redragon K551RGB.exe'}\n{'name': 'RemindersServer.exe', 'pid': 9100, 'path': 'C:\\\\Windows\\\\SystemApps\\\\Microsoft.Windows.Cortana_cw5n1h2txyewy\\\\RemindersServer.exe'}\n{'name': 'cmd.exe', 'pid': 21320, 'path': 'C:\\\\WINDOWS\\\\system32\\\\cmd.exe'}\n{'name': 'Code.exe', 'pid': 12196, 'path': 'C:\\\\Users\\\\Danilo\\\\AppData\\\\Local\\\\Programs\\\\Microsoft VS Code\\\\Code.exe'}\n{'name': 'CodeHelper.exe', 'pid': 20872, 'path': 'c:\\\\Users\\\\Danilo\\\\AppData\\\\Local\\\\Programs\\\\Microsoft VS Code\\\\resources\\\\app\\\\out\\\\vs\\\\platform\\\\files\\\\node\\\\watcher\\\\win32\\\\CodeHelper.exe'}\n{'name': 'vsls-agent.exe', 'pid': 15284, 'path': 'c:\\\\Users\\\\Danilo\\\\.vscode\\\\extensions\\\\ms-vsliveshare.vsliveshare-1.0.3912\\\\dotnet_modules\\\\vsls-agent.exe'}\n{'name': 'python.exe', 'pid': 18816, 'path': 'D:\\\\Python\\\\Python36\\\\python.exe'}\n{'name': 'WmiApSrv.exe', 'pid': 22988, 'path': None}\n"
     ]
    }
   ],
   "source": [
    "processes = pydash.uniq_by([{'name': p.Name, 'pid': p.ProcessId, 'path': p.ExecutablePath} for p in f.Win32_Process()], lambda x: x['name'])\n",
    "\n",
    "\n",
    "len(processes)\n",
    "# Iterating through all the running processes \n",
    "for process in processes:\n",
    "    print(process)"
   ]
  },
  {
   "cell_type": "code",
   "execution_count": 13,
   "metadata": {},
   "outputs": [
    {
     "output_type": "execute_result",
     "data": {
      "text/plain": [
       "132"
      ]
     },
     "metadata": {},
     "execution_count": 13
    }
   ],
   "source": [
    "windows = pywinauto.Desktop"
   ]
  },
  {
   "cell_type": "code",
   "execution_count": null,
   "metadata": {},
   "outputs": [],
   "source": []
  }
 ]
}